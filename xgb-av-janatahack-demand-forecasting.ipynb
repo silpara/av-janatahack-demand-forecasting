{
 "cells": [
  {
   "cell_type": "code",
   "execution_count": 1,
   "metadata": {},
   "outputs": [],
   "source": [
    "import xgboost as xgb\n",
    "import pandas as pd\n",
    "from matplotlib import pyplot as plt\n",
    "import warnings\n",
    "import numpy as np\n",
    "import os\n",
    "from sklearn.metrics import mean_absolute_error\n",
    "os.environ['NUMEXPR_MAX_THREADS'] = '16'\n",
    "os.environ['NUMEXPR_NUM_THREADS'] = '10'"
   ]
  },
  {
   "cell_type": "code",
   "execution_count": 2,
   "metadata": {},
   "outputs": [],
   "source": [
    "df_train = pd.read_csv('data/train.csv', header=0)\n",
    "df_test = pd.read_csv('data/test.csv', header=0)\n",
    "submission = pd.read_csv('data/sample_submission.csv', header=0)"
   ]
  },
  {
   "cell_type": "code",
   "execution_count": 3,
   "metadata": {},
   "outputs": [
    {
     "data": {
      "text/plain": [
       "((150150, 9), (13860, 8))"
      ]
     },
     "execution_count": 3,
     "metadata": {},
     "output_type": "execute_result"
    }
   ],
   "source": [
    "df_train.shape, df_test.shape"
   ]
  },
  {
   "cell_type": "code",
   "execution_count": 4,
   "metadata": {},
   "outputs": [],
   "source": [
    "df_train.fillna(0, inplace=True)\n",
    "df_test.fillna(0, inplace=True)"
   ]
  },
  {
   "cell_type": "code",
   "execution_count": 5,
   "metadata": {},
   "outputs": [
    {
     "name": "stdout",
     "output_type": "stream",
     "text": [
      "   store_id  sku_id  max_base_price\n",
      "0      8023  216233        140.3625\n",
      "1      8023  216418        119.7000\n",
      "2      8023  216419        119.7000\n",
      "3      8023  216425        141.0750\n",
      "4      8023  217390        174.5625\n",
      "   store_id  sku_id  max_total_price\n",
      "0      8023  216233         140.3625\n",
      "1      8023  216418         119.7000\n",
      "2      8023  216419         119.7000\n",
      "3      8023  216425         141.0750\n",
      "4      8023  217390         174.5625\n"
     ]
    }
   ],
   "source": [
    "df_store_sku_max_base_price = df_train.groupby(['store_id', 'sku_id']).agg({'base_price': 'max'}).reset_index()\n",
    "df_store_sku_max_base_price.columns = ['store_id', 'sku_id', 'max_base_price']\n",
    "print(df_store_sku_max_base_price.head())\n",
    "\n",
    "df_store_sku_max_total_price = df_train.groupby(['store_id', 'sku_id']).agg({'total_price': 'max'}).reset_index()\n",
    "df_store_sku_max_total_price.columns = ['store_id', 'sku_id', 'max_total_price']\n",
    "print(df_store_sku_max_total_price.head())"
   ]
  },
  {
   "cell_type": "code",
   "execution_count": 6,
   "metadata": {},
   "outputs": [],
   "source": [
    "df_train = pd.merge(df_train, df_store_sku_max_total_price, on=['store_id', 'sku_id'])\n",
    "df_train['total_price_by_max_total_price'] = df_train['total_price']/df_train['max_total_price']\n",
    "\n",
    "df_test = pd.merge(df_test, df_store_sku_max_total_price, on=['store_id', 'sku_id'])\n",
    "df_test['total_price_by_max_total_price'] = df_test['total_price']/df_test['max_total_price']\n",
    "\n",
    "df_train.fillna(0, inplace=True)\n",
    "df_test.fillna(0, inplace=True)"
   ]
  },
  {
   "cell_type": "code",
   "execution_count": 7,
   "metadata": {},
   "outputs": [
    {
     "data": {
      "text/html": [
       "<div>\n",
       "<style scoped>\n",
       "    .dataframe tbody tr th:only-of-type {\n",
       "        vertical-align: middle;\n",
       "    }\n",
       "\n",
       "    .dataframe tbody tr th {\n",
       "        vertical-align: top;\n",
       "    }\n",
       "\n",
       "    .dataframe thead th {\n",
       "        text-align: right;\n",
       "    }\n",
       "</style>\n",
       "<table border=\"1\" class=\"dataframe\">\n",
       "  <thead>\n",
       "    <tr style=\"text-align: right;\">\n",
       "      <th></th>\n",
       "      <th>record_ID</th>\n",
       "      <th>week</th>\n",
       "      <th>store_id</th>\n",
       "      <th>sku_id</th>\n",
       "      <th>total_price</th>\n",
       "      <th>base_price</th>\n",
       "      <th>is_featured_sku</th>\n",
       "      <th>is_display_sku</th>\n",
       "      <th>units_sold</th>\n",
       "      <th>max_total_price</th>\n",
       "      <th>total_price_by_max_total_price</th>\n",
       "    </tr>\n",
       "  </thead>\n",
       "  <tbody>\n",
       "    <tr>\n",
       "      <th>0</th>\n",
       "      <td>1</td>\n",
       "      <td>17/01/11</td>\n",
       "      <td>8091</td>\n",
       "      <td>216418</td>\n",
       "      <td>99.0375</td>\n",
       "      <td>111.8625</td>\n",
       "      <td>0</td>\n",
       "      <td>0</td>\n",
       "      <td>20</td>\n",
       "      <td>120.4125</td>\n",
       "      <td>0.822485</td>\n",
       "    </tr>\n",
       "    <tr>\n",
       "      <th>1</th>\n",
       "      <td>1641</td>\n",
       "      <td>24/01/11</td>\n",
       "      <td>8091</td>\n",
       "      <td>216418</td>\n",
       "      <td>99.0375</td>\n",
       "      <td>111.8625</td>\n",
       "      <td>0</td>\n",
       "      <td>0</td>\n",
       "      <td>34</td>\n",
       "      <td>120.4125</td>\n",
       "      <td>0.822485</td>\n",
       "    </tr>\n",
       "    <tr>\n",
       "      <th>2</th>\n",
       "      <td>3277</td>\n",
       "      <td>31/01/11</td>\n",
       "      <td>8091</td>\n",
       "      <td>216418</td>\n",
       "      <td>96.9000</td>\n",
       "      <td>96.9000</td>\n",
       "      <td>0</td>\n",
       "      <td>0</td>\n",
       "      <td>10</td>\n",
       "      <td>120.4125</td>\n",
       "      <td>0.804734</td>\n",
       "    </tr>\n",
       "    <tr>\n",
       "      <th>3</th>\n",
       "      <td>4913</td>\n",
       "      <td>07/02/11</td>\n",
       "      <td>8091</td>\n",
       "      <td>216418</td>\n",
       "      <td>98.3250</td>\n",
       "      <td>98.3250</td>\n",
       "      <td>0</td>\n",
       "      <td>0</td>\n",
       "      <td>17</td>\n",
       "      <td>120.4125</td>\n",
       "      <td>0.816568</td>\n",
       "    </tr>\n",
       "    <tr>\n",
       "      <th>4</th>\n",
       "      <td>6553</td>\n",
       "      <td>14/02/11</td>\n",
       "      <td>8091</td>\n",
       "      <td>216418</td>\n",
       "      <td>106.8750</td>\n",
       "      <td>106.8750</td>\n",
       "      <td>0</td>\n",
       "      <td>0</td>\n",
       "      <td>24</td>\n",
       "      <td>120.4125</td>\n",
       "      <td>0.887574</td>\n",
       "    </tr>\n",
       "  </tbody>\n",
       "</table>\n",
       "</div>"
      ],
      "text/plain": [
       "   record_ID      week  store_id  sku_id  total_price  base_price  \\\n",
       "0          1  17/01/11      8091  216418      99.0375    111.8625   \n",
       "1       1641  24/01/11      8091  216418      99.0375    111.8625   \n",
       "2       3277  31/01/11      8091  216418      96.9000     96.9000   \n",
       "3       4913  07/02/11      8091  216418      98.3250     98.3250   \n",
       "4       6553  14/02/11      8091  216418     106.8750    106.8750   \n",
       "\n",
       "   is_featured_sku  is_display_sku  units_sold  max_total_price  \\\n",
       "0                0               0          20         120.4125   \n",
       "1                0               0          34         120.4125   \n",
       "2                0               0          10         120.4125   \n",
       "3                0               0          17         120.4125   \n",
       "4                0               0          24         120.4125   \n",
       "\n",
       "   total_price_by_max_total_price  \n",
       "0                        0.822485  \n",
       "1                        0.822485  \n",
       "2                        0.804734  \n",
       "3                        0.816568  \n",
       "4                        0.887574  "
      ]
     },
     "execution_count": 7,
     "metadata": {},
     "output_type": "execute_result"
    }
   ],
   "source": [
    "df_train.head()"
   ]
  },
  {
   "cell_type": "code",
   "execution_count": 8,
   "metadata": {},
   "outputs": [
    {
     "data": {
      "text/plain": [
       "((150150, 11), (13860, 10))"
      ]
     },
     "execution_count": 8,
     "metadata": {},
     "output_type": "execute_result"
    }
   ],
   "source": [
    "df_train.shape, df_test.shape"
   ]
  },
  {
   "cell_type": "code",
   "execution_count": 9,
   "metadata": {},
   "outputs": [],
   "source": [
    "df_train['units_sold'] = np.log(df_train['units_sold'])"
   ]
  },
  {
   "cell_type": "code",
   "execution_count": 10,
   "metadata": {},
   "outputs": [
    {
     "data": {
      "text/plain": [
       "140727    01/05/12\n",
       "111051    22/08/11\n",
       "102787    18/09/12\n",
       "122931    07/08/12\n",
       "94936     26/09/11\n",
       "125418    04/12/12\n",
       "Name: week, dtype: object"
      ]
     },
     "execution_count": 10,
     "metadata": {},
     "output_type": "execute_result"
    }
   ],
   "source": [
    "df_train['week'].sample(6)"
   ]
  },
  {
   "cell_type": "code",
   "execution_count": 11,
   "metadata": {},
   "outputs": [],
   "source": [
    "df_train['week'] = pd.to_datetime(df_train['week'], format='%d/%m/%y')\n",
    "df_test['week'] = pd.to_datetime(df_test['week'], format='%d/%m/%y')"
   ]
  },
  {
   "cell_type": "code",
   "execution_count": 12,
   "metadata": {},
   "outputs": [
    {
     "data": {
      "text/plain": [
       "150150"
      ]
     },
     "execution_count": 12,
     "metadata": {},
     "output_type": "execute_result"
    }
   ],
   "source": [
    "df_train.groupby(['store_id', 'sku_id'])['week'].count().reset_index()['week'].sum()"
   ]
  },
  {
   "cell_type": "code",
   "execution_count": 13,
   "metadata": {},
   "outputs": [
    {
     "data": {
      "text/plain": [
       "(130, 130)"
      ]
     },
     "execution_count": 13,
     "metadata": {},
     "output_type": "execute_result"
    }
   ],
   "source": [
    "df_train.groupby(['store_id', 'sku_id'])['week'].count().reset_index()['week'].min(), \\\n",
    "df_train.groupby(['store_id', 'sku_id'])['week'].count().reset_index()['week'].max()"
   ]
  },
  {
   "cell_type": "code",
   "execution_count": 14,
   "metadata": {},
   "outputs": [
    {
     "data": {
      "text/plain": [
       "(12, 12)"
      ]
     },
     "execution_count": 14,
     "metadata": {},
     "output_type": "execute_result"
    }
   ],
   "source": [
    "df_test.groupby(['store_id', 'sku_id'])['week'].count().reset_index()['week'].min(), \\\n",
    "df_test.groupby(['store_id', 'sku_id'])['week'].count().reset_index()['week'].max()"
   ]
  },
  {
   "cell_type": "code",
   "execution_count": 15,
   "metadata": {},
   "outputs": [
    {
     "name": "stdout",
     "output_type": "stream",
     "text": [
      "28 28\n"
     ]
    }
   ],
   "source": [
    "print(df_train['sku_id'].unique().shape[0], df_test['sku_id'].unique().shape[0])"
   ]
  },
  {
   "cell_type": "code",
   "execution_count": 16,
   "metadata": {},
   "outputs": [],
   "source": [
    "df_week = pd.concat((df_train[['week']], df_test[['week']]))\n",
    "df_week = df_week.drop_duplicates()\n",
    "df_week = df_week.sort_values('week')\n",
    "df_week['week_num'] = np.arange(0, df_week.shape[0])"
   ]
  },
  {
   "cell_type": "code",
   "execution_count": 17,
   "metadata": {},
   "outputs": [
    {
     "data": {
      "text/html": [
       "<div>\n",
       "<style scoped>\n",
       "    .dataframe tbody tr th:only-of-type {\n",
       "        vertical-align: middle;\n",
       "    }\n",
       "\n",
       "    .dataframe tbody tr th {\n",
       "        vertical-align: top;\n",
       "    }\n",
       "\n",
       "    .dataframe thead th {\n",
       "        text-align: right;\n",
       "    }\n",
       "</style>\n",
       "<table border=\"1\" class=\"dataframe\">\n",
       "  <thead>\n",
       "    <tr style=\"text-align: right;\">\n",
       "      <th></th>\n",
       "      <th>week</th>\n",
       "      <th>week_num</th>\n",
       "    </tr>\n",
       "  </thead>\n",
       "  <tbody>\n",
       "    <tr>\n",
       "      <th>0</th>\n",
       "      <td>2011-01-17</td>\n",
       "      <td>0</td>\n",
       "    </tr>\n",
       "    <tr>\n",
       "      <th>1</th>\n",
       "      <td>2011-01-24</td>\n",
       "      <td>1</td>\n",
       "    </tr>\n",
       "    <tr>\n",
       "      <th>2</th>\n",
       "      <td>2011-01-31</td>\n",
       "      <td>2</td>\n",
       "    </tr>\n",
       "    <tr>\n",
       "      <th>3</th>\n",
       "      <td>2011-02-07</td>\n",
       "      <td>3</td>\n",
       "    </tr>\n",
       "    <tr>\n",
       "      <th>4</th>\n",
       "      <td>2011-02-14</td>\n",
       "      <td>4</td>\n",
       "    </tr>\n",
       "  </tbody>\n",
       "</table>\n",
       "</div>"
      ],
      "text/plain": [
       "        week  week_num\n",
       "0 2011-01-17         0\n",
       "1 2011-01-24         1\n",
       "2 2011-01-31         2\n",
       "3 2011-02-07         3\n",
       "4 2011-02-14         4"
      ]
     },
     "execution_count": 17,
     "metadata": {},
     "output_type": "execute_result"
    }
   ],
   "source": [
    "df_week.head()"
   ]
  },
  {
   "cell_type": "code",
   "execution_count": 18,
   "metadata": {},
   "outputs": [],
   "source": [
    "df_train = pd.merge(df_train, df_week, on=['week'])\n",
    "df_test = pd.merge(df_test, df_week, on=['week'])"
   ]
  },
  {
   "cell_type": "code",
   "execution_count": 19,
   "metadata": {},
   "outputs": [],
   "source": [
    "df_train['week_of_year'] = df_train['week'].dt.week\n",
    "df_test['week_of_year'] = df_test['week'].dt.week"
   ]
  },
  {
   "cell_type": "code",
   "execution_count": 20,
   "metadata": {},
   "outputs": [
    {
     "data": {
      "text/plain": [
       "((150150, 13), (13860, 12))"
      ]
     },
     "execution_count": 20,
     "metadata": {},
     "output_type": "execute_result"
    }
   ],
   "source": [
    "df_train.shape, df_test.shape"
   ]
  },
  {
   "cell_type": "code",
   "execution_count": 21,
   "metadata": {},
   "outputs": [],
   "source": [
    "df_train, df_eval = df_train[df_train.week_num <= 117], df_train[df_train.week_num > 117]"
   ]
  },
  {
   "cell_type": "code",
   "execution_count": 22,
   "metadata": {},
   "outputs": [
    {
     "data": {
      "text/plain": [
       "Index(['record_ID', 'week', 'store_id', 'sku_id', 'total_price', 'base_price',\n",
       "       'is_featured_sku', 'is_display_sku', 'units_sold', 'max_total_price',\n",
       "       'total_price_by_max_total_price', 'week_num', 'week_of_year'],\n",
       "      dtype='object')"
      ]
     },
     "execution_count": 22,
     "metadata": {},
     "output_type": "execute_result"
    }
   ],
   "source": [
    "df_train.columns"
   ]
  },
  {
   "cell_type": "code",
   "execution_count": 23,
   "metadata": {},
   "outputs": [],
   "source": [
    "feature_cols = ['store_id', 'sku_id', 'total_price', 'base_price','is_featured_sku', 'is_display_sku', 'max_total_price', 'total_price_by_max_total_price', 'week_num', 'week_of_year']\n",
    "label_col = 'units_sold'"
   ]
  },
  {
   "cell_type": "code",
   "execution_count": 24,
   "metadata": {},
   "outputs": [],
   "source": [
    "dtrain = xgb.DMatrix(df_train[feature_cols], df_train[label_col])\n",
    "deval = xgb.DMatrix(df_eval[feature_cols], df_eval[label_col])\n",
    "dtest = xgb.DMatrix(df_test[feature_cols])"
   ]
  },
  {
   "cell_type": "code",
   "execution_count": 25,
   "metadata": {
    "scrolled": true
   },
   "outputs": [
    {
     "name": "stdout",
     "output_type": "stream",
     "text": [
      "[0]\ttrain-rmse:3.14431\teval-rmse:3.13755\n",
      "Multiple eval metrics have been passed: 'eval-rmse' will be used for early stopping.\n",
      "\n",
      "Will train until eval-rmse hasn't improved in 100 rounds.\n",
      "[10]\ttrain-rmse:2.85564\teval-rmse:2.85429\n",
      "[20]\ttrain-rmse:2.59488\teval-rmse:2.59903\n",
      "[30]\ttrain-rmse:2.35999\teval-rmse:2.36874\n",
      "[40]\ttrain-rmse:2.14847\teval-rmse:2.16160\n",
      "[50]\ttrain-rmse:1.95774\teval-rmse:1.97506\n",
      "[60]\ttrain-rmse:1.78628\teval-rmse:1.80789\n",
      "[70]\ttrain-rmse:1.63206\teval-rmse:1.65713\n",
      "[80]\ttrain-rmse:1.49363\teval-rmse:1.52229\n",
      "[90]\ttrain-rmse:1.36963\teval-rmse:1.40210\n",
      "[100]\ttrain-rmse:1.25905\teval-rmse:1.29550\n",
      "[110]\ttrain-rmse:1.15951\teval-rmse:1.19888\n",
      "[120]\ttrain-rmse:1.07038\teval-rmse:1.11137\n",
      "[130]\ttrain-rmse:0.99160\teval-rmse:1.03533\n",
      "[140]\ttrain-rmse:0.92167\teval-rmse:0.96808\n",
      "[150]\ttrain-rmse:0.85937\teval-rmse:0.90865\n",
      "[160]\ttrain-rmse:0.80393\teval-rmse:0.85434\n",
      "[170]\ttrain-rmse:0.75546\teval-rmse:0.80781\n",
      "[180]\ttrain-rmse:0.71322\teval-rmse:0.76747\n",
      "[190]\ttrain-rmse:0.67534\teval-rmse:0.73015\n",
      "[200]\ttrain-rmse:0.64268\teval-rmse:0.69857\n",
      "[210]\ttrain-rmse:0.61411\teval-rmse:0.67071\n",
      "[220]\ttrain-rmse:0.58902\teval-rmse:0.64610\n",
      "[230]\ttrain-rmse:0.56755\teval-rmse:0.62517\n",
      "[240]\ttrain-rmse:0.54878\teval-rmse:0.60669\n",
      "[250]\ttrain-rmse:0.53231\teval-rmse:0.59050\n",
      "[260]\ttrain-rmse:0.51816\teval-rmse:0.57626\n",
      "[270]\ttrain-rmse:0.50574\teval-rmse:0.56438\n",
      "[280]\ttrain-rmse:0.49443\teval-rmse:0.55268\n",
      "[290]\ttrain-rmse:0.48460\teval-rmse:0.54289\n",
      "[300]\ttrain-rmse:0.47641\teval-rmse:0.53472\n",
      "[310]\ttrain-rmse:0.46904\teval-rmse:0.52698\n",
      "[320]\ttrain-rmse:0.46222\teval-rmse:0.51984\n",
      "[330]\ttrain-rmse:0.45670\teval-rmse:0.51412\n",
      "[340]\ttrain-rmse:0.45122\teval-rmse:0.50870\n",
      "[350]\ttrain-rmse:0.44655\teval-rmse:0.50386\n",
      "[360]\ttrain-rmse:0.44230\teval-rmse:0.49981\n",
      "[370]\ttrain-rmse:0.43801\teval-rmse:0.49531\n",
      "[380]\ttrain-rmse:0.43430\teval-rmse:0.49157\n",
      "[390]\ttrain-rmse:0.43100\teval-rmse:0.48836\n",
      "[400]\ttrain-rmse:0.42777\teval-rmse:0.48507\n",
      "[410]\ttrain-rmse:0.42473\teval-rmse:0.48207\n",
      "[420]\ttrain-rmse:0.42170\teval-rmse:0.47912\n",
      "[430]\ttrain-rmse:0.41908\teval-rmse:0.47699\n",
      "[440]\ttrain-rmse:0.41638\teval-rmse:0.47417\n",
      "[450]\ttrain-rmse:0.41431\teval-rmse:0.47231\n",
      "[460]\ttrain-rmse:0.41214\teval-rmse:0.47026\n",
      "[470]\ttrain-rmse:0.41008\teval-rmse:0.46844\n",
      "[480]\ttrain-rmse:0.40798\teval-rmse:0.46633\n",
      "[490]\ttrain-rmse:0.40592\teval-rmse:0.46427\n",
      "[500]\ttrain-rmse:0.40383\teval-rmse:0.46238\n",
      "[510]\ttrain-rmse:0.40206\teval-rmse:0.46091\n",
      "[520]\ttrain-rmse:0.40081\teval-rmse:0.46000\n",
      "[530]\ttrain-rmse:0.39920\teval-rmse:0.45858\n",
      "[540]\ttrain-rmse:0.39782\teval-rmse:0.45737\n",
      "[550]\ttrain-rmse:0.39624\teval-rmse:0.45597\n",
      "[560]\ttrain-rmse:0.39486\teval-rmse:0.45498\n",
      "[570]\ttrain-rmse:0.39358\teval-rmse:0.45367\n",
      "[580]\ttrain-rmse:0.39225\teval-rmse:0.45276\n",
      "[590]\ttrain-rmse:0.39123\teval-rmse:0.45215\n",
      "[600]\ttrain-rmse:0.39006\teval-rmse:0.45123\n",
      "[610]\ttrain-rmse:0.38898\teval-rmse:0.45036\n",
      "[620]\ttrain-rmse:0.38777\teval-rmse:0.44937\n",
      "[630]\ttrain-rmse:0.38666\teval-rmse:0.44827\n",
      "[640]\ttrain-rmse:0.38567\teval-rmse:0.44760\n",
      "[650]\ttrain-rmse:0.38465\teval-rmse:0.44683\n",
      "[660]\ttrain-rmse:0.38360\teval-rmse:0.44600\n",
      "[670]\ttrain-rmse:0.38277\teval-rmse:0.44533\n",
      "[680]\ttrain-rmse:0.38196\teval-rmse:0.44470\n",
      "[690]\ttrain-rmse:0.38112\teval-rmse:0.44395\n",
      "[700]\ttrain-rmse:0.38030\teval-rmse:0.44332\n",
      "[710]\ttrain-rmse:0.37953\teval-rmse:0.44264\n",
      "[720]\ttrain-rmse:0.37875\teval-rmse:0.44215\n",
      "[730]\ttrain-rmse:0.37796\teval-rmse:0.44157\n",
      "[740]\ttrain-rmse:0.37715\teval-rmse:0.44099\n",
      "[750]\ttrain-rmse:0.37654\teval-rmse:0.44047\n",
      "[760]\ttrain-rmse:0.37591\teval-rmse:0.44008\n",
      "[770]\ttrain-rmse:0.37528\teval-rmse:0.43963\n",
      "[780]\ttrain-rmse:0.37457\teval-rmse:0.43918\n",
      "[790]\ttrain-rmse:0.37382\teval-rmse:0.43854\n",
      "[800]\ttrain-rmse:0.37322\teval-rmse:0.43829\n",
      "[810]\ttrain-rmse:0.37270\teval-rmse:0.43802\n",
      "[820]\ttrain-rmse:0.37214\teval-rmse:0.43782\n",
      "[830]\ttrain-rmse:0.37143\teval-rmse:0.43756\n",
      "[840]\ttrain-rmse:0.37098\teval-rmse:0.43728\n",
      "[850]\ttrain-rmse:0.37042\teval-rmse:0.43681\n",
      "[860]\ttrain-rmse:0.36990\teval-rmse:0.43640\n",
      "[870]\ttrain-rmse:0.36918\teval-rmse:0.43586\n",
      "[880]\ttrain-rmse:0.36858\teval-rmse:0.43542\n",
      "[890]\ttrain-rmse:0.36798\teval-rmse:0.43506\n",
      "[900]\ttrain-rmse:0.36739\teval-rmse:0.43465\n",
      "[910]\ttrain-rmse:0.36691\teval-rmse:0.43438\n",
      "[920]\ttrain-rmse:0.36646\teval-rmse:0.43412\n",
      "[930]\ttrain-rmse:0.36601\teval-rmse:0.43386\n",
      "[940]\ttrain-rmse:0.36554\teval-rmse:0.43363\n",
      "[950]\ttrain-rmse:0.36504\teval-rmse:0.43330\n",
      "[960]\ttrain-rmse:0.36461\teval-rmse:0.43303\n",
      "[970]\ttrain-rmse:0.36418\teval-rmse:0.43292\n",
      "[980]\ttrain-rmse:0.36373\teval-rmse:0.43276\n",
      "[990]\ttrain-rmse:0.36337\teval-rmse:0.43251\n",
      "[1000]\ttrain-rmse:0.36286\teval-rmse:0.43222\n",
      "[1010]\ttrain-rmse:0.36253\teval-rmse:0.43206\n",
      "[1020]\ttrain-rmse:0.36208\teval-rmse:0.43192\n",
      "[1030]\ttrain-rmse:0.36173\teval-rmse:0.43166\n",
      "[1040]\ttrain-rmse:0.36131\teval-rmse:0.43148\n",
      "[1050]\ttrain-rmse:0.36105\teval-rmse:0.43144\n",
      "[1060]\ttrain-rmse:0.36069\teval-rmse:0.43120\n",
      "[1070]\ttrain-rmse:0.36009\teval-rmse:0.43085\n",
      "[1080]\ttrain-rmse:0.35978\teval-rmse:0.43073\n",
      "[1090]\ttrain-rmse:0.35947\teval-rmse:0.43066\n",
      "[1100]\ttrain-rmse:0.35914\teval-rmse:0.43054\n",
      "[1110]\ttrain-rmse:0.35876\teval-rmse:0.43041\n",
      "[1120]\ttrain-rmse:0.35837\teval-rmse:0.43019\n",
      "[1130]\ttrain-rmse:0.35807\teval-rmse:0.43007\n",
      "[1140]\ttrain-rmse:0.35769\teval-rmse:0.42991\n",
      "[1150]\ttrain-rmse:0.35737\teval-rmse:0.42973\n",
      "[1160]\ttrain-rmse:0.35705\teval-rmse:0.42949\n",
      "[1170]\ttrain-rmse:0.35680\teval-rmse:0.42946\n",
      "[1180]\ttrain-rmse:0.35646\teval-rmse:0.42931\n",
      "[1190]\ttrain-rmse:0.35623\teval-rmse:0.42924\n",
      "[1200]\ttrain-rmse:0.35600\teval-rmse:0.42922\n",
      "[1210]\ttrain-rmse:0.35568\teval-rmse:0.42904\n",
      "[1220]\ttrain-rmse:0.35533\teval-rmse:0.42891\n",
      "[1230]\ttrain-rmse:0.35508\teval-rmse:0.42885\n",
      "[1240]\ttrain-rmse:0.35484\teval-rmse:0.42883\n",
      "[1250]\ttrain-rmse:0.35459\teval-rmse:0.42880\n",
      "[1260]\ttrain-rmse:0.35425\teval-rmse:0.42869\n",
      "[1270]\ttrain-rmse:0.35393\teval-rmse:0.42867\n",
      "[1280]\ttrain-rmse:0.35374\teval-rmse:0.42867\n",
      "[1290]\ttrain-rmse:0.35341\teval-rmse:0.42847\n",
      "[1300]\ttrain-rmse:0.35315\teval-rmse:0.42840\n",
      "[1310]\ttrain-rmse:0.35281\teval-rmse:0.42823\n",
      "[1320]\ttrain-rmse:0.35256\teval-rmse:0.42821\n",
      "[1330]\ttrain-rmse:0.35230\teval-rmse:0.42817\n",
      "[1340]\ttrain-rmse:0.35207\teval-rmse:0.42808\n",
      "[1350]\ttrain-rmse:0.35173\teval-rmse:0.42795\n",
      "[1360]\ttrain-rmse:0.35148\teval-rmse:0.42782\n",
      "[1370]\ttrain-rmse:0.35129\teval-rmse:0.42777\n",
      "[1380]\ttrain-rmse:0.35102\teval-rmse:0.42763\n",
      "[1390]\ttrain-rmse:0.35075\teval-rmse:0.42757\n",
      "[1400]\ttrain-rmse:0.35046\teval-rmse:0.42743\n",
      "[1410]\ttrain-rmse:0.35015\teval-rmse:0.42729\n",
      "[1420]\ttrain-rmse:0.34989\teval-rmse:0.42718\n",
      "[1430]\ttrain-rmse:0.34960\teval-rmse:0.42712\n",
      "[1440]\ttrain-rmse:0.34937\teval-rmse:0.42707\n",
      "[1450]\ttrain-rmse:0.34917\teval-rmse:0.42701\n",
      "[1460]\ttrain-rmse:0.34891\teval-rmse:0.42690\n",
      "[1470]\ttrain-rmse:0.34870\teval-rmse:0.42686\n",
      "[1480]\ttrain-rmse:0.34840\teval-rmse:0.42692\n",
      "[1490]\ttrain-rmse:0.34816\teval-rmse:0.42677\n",
      "[1500]\ttrain-rmse:0.34790\teval-rmse:0.42674\n",
      "[1510]\ttrain-rmse:0.34769\teval-rmse:0.42667\n",
      "[1520]\ttrain-rmse:0.34745\teval-rmse:0.42666\n",
      "[1530]\ttrain-rmse:0.34723\teval-rmse:0.42659\n",
      "[1540]\ttrain-rmse:0.34696\teval-rmse:0.42645\n",
      "[1550]\ttrain-rmse:0.34672\teval-rmse:0.42638\n",
      "[1560]\ttrain-rmse:0.34652\teval-rmse:0.42631\n",
      "[1570]\ttrain-rmse:0.34635\teval-rmse:0.42627\n",
      "[1580]\ttrain-rmse:0.34616\teval-rmse:0.42630\n",
      "[1590]\ttrain-rmse:0.34596\teval-rmse:0.42622\n",
      "[1600]\ttrain-rmse:0.34578\teval-rmse:0.42628\n",
      "[1610]\ttrain-rmse:0.34557\teval-rmse:0.42624\n",
      "[1620]\ttrain-rmse:0.34534\teval-rmse:0.42613\n",
      "[1630]\ttrain-rmse:0.34514\teval-rmse:0.42608\n",
      "[1640]\ttrain-rmse:0.34490\teval-rmse:0.42596\n",
      "[1650]\ttrain-rmse:0.34468\teval-rmse:0.42602\n",
      "[1660]\ttrain-rmse:0.34450\teval-rmse:0.42600\n",
      "[1670]\ttrain-rmse:0.34432\teval-rmse:0.42596\n",
      "[1680]\ttrain-rmse:0.34414\teval-rmse:0.42594\n",
      "[1690]\ttrain-rmse:0.34398\teval-rmse:0.42597\n",
      "[1700]\ttrain-rmse:0.34380\teval-rmse:0.42583\n",
      "[1710]\ttrain-rmse:0.34362\teval-rmse:0.42583\n",
      "[1720]\ttrain-rmse:0.34343\teval-rmse:0.42580\n",
      "[1730]\ttrain-rmse:0.34325\teval-rmse:0.42573\n",
      "[1740]\ttrain-rmse:0.34307\teval-rmse:0.42574\n",
      "[1750]\ttrain-rmse:0.34289\teval-rmse:0.42575\n",
      "[1760]\ttrain-rmse:0.34269\teval-rmse:0.42570\n",
      "[1770]\ttrain-rmse:0.34246\teval-rmse:0.42556\n",
      "[1780]\ttrain-rmse:0.34231\teval-rmse:0.42556\n",
      "[1790]\ttrain-rmse:0.34212\teval-rmse:0.42545\n",
      "[1800]\ttrain-rmse:0.34193\teval-rmse:0.42533\n",
      "[1810]\ttrain-rmse:0.34177\teval-rmse:0.42525\n",
      "[1820]\ttrain-rmse:0.34158\teval-rmse:0.42524\n",
      "[1830]\ttrain-rmse:0.34142\teval-rmse:0.42528\n",
      "[1840]\ttrain-rmse:0.34121\teval-rmse:0.42522\n",
      "[1850]\ttrain-rmse:0.34108\teval-rmse:0.42531\n"
     ]
    },
    {
     "name": "stdout",
     "output_type": "stream",
     "text": [
      "[1860]\ttrain-rmse:0.34092\teval-rmse:0.42534\n",
      "[1870]\ttrain-rmse:0.34078\teval-rmse:0.42535\n",
      "[1880]\ttrain-rmse:0.34060\teval-rmse:0.42524\n",
      "[1890]\ttrain-rmse:0.34046\teval-rmse:0.42524\n",
      "[1900]\ttrain-rmse:0.34024\teval-rmse:0.42517\n",
      "[1910]\ttrain-rmse:0.34006\teval-rmse:0.42517\n",
      "[1920]\ttrain-rmse:0.33987\teval-rmse:0.42526\n",
      "[1930]\ttrain-rmse:0.33970\teval-rmse:0.42526\n",
      "[1940]\ttrain-rmse:0.33953\teval-rmse:0.42530\n",
      "[1950]\ttrain-rmse:0.33937\teval-rmse:0.42526\n",
      "[1960]\ttrain-rmse:0.33921\teval-rmse:0.42520\n",
      "[1970]\ttrain-rmse:0.33904\teval-rmse:0.42510\n",
      "[1980]\ttrain-rmse:0.33889\teval-rmse:0.42500\n",
      "[1990]\ttrain-rmse:0.33872\teval-rmse:0.42500\n",
      "[2000]\ttrain-rmse:0.33850\teval-rmse:0.42491\n",
      "[2010]\ttrain-rmse:0.33836\teval-rmse:0.42486\n",
      "[2020]\ttrain-rmse:0.33821\teval-rmse:0.42488\n",
      "[2030]\ttrain-rmse:0.33804\teval-rmse:0.42491\n",
      "[2040]\ttrain-rmse:0.33788\teval-rmse:0.42489\n",
      "[2050]\ttrain-rmse:0.33775\teval-rmse:0.42486\n",
      "[2060]\ttrain-rmse:0.33757\teval-rmse:0.42493\n",
      "[2070]\ttrain-rmse:0.33742\teval-rmse:0.42489\n",
      "[2080]\ttrain-rmse:0.33728\teval-rmse:0.42488\n",
      "[2090]\ttrain-rmse:0.33717\teval-rmse:0.42487\n",
      "[2100]\ttrain-rmse:0.33701\teval-rmse:0.42494\n",
      "[2110]\ttrain-rmse:0.33683\teval-rmse:0.42485\n",
      "[2120]\ttrain-rmse:0.33670\teval-rmse:0.42485\n",
      "[2130]\ttrain-rmse:0.33657\teval-rmse:0.42478\n",
      "[2140]\ttrain-rmse:0.33642\teval-rmse:0.42476\n",
      "[2150]\ttrain-rmse:0.33630\teval-rmse:0.42475\n",
      "[2160]\ttrain-rmse:0.33614\teval-rmse:0.42470\n",
      "[2170]\ttrain-rmse:0.33601\teval-rmse:0.42463\n",
      "[2180]\ttrain-rmse:0.33586\teval-rmse:0.42474\n",
      "[2190]\ttrain-rmse:0.33568\teval-rmse:0.42475\n",
      "[2200]\ttrain-rmse:0.33554\teval-rmse:0.42473\n",
      "[2210]\ttrain-rmse:0.33541\teval-rmse:0.42468\n",
      "[2220]\ttrain-rmse:0.33525\teval-rmse:0.42470\n",
      "[2230]\ttrain-rmse:0.33511\teval-rmse:0.42461\n",
      "[2240]\ttrain-rmse:0.33497\teval-rmse:0.42465\n",
      "[2250]\ttrain-rmse:0.33482\teval-rmse:0.42459\n",
      "[2260]\ttrain-rmse:0.33469\teval-rmse:0.42468\n",
      "[2270]\ttrain-rmse:0.33453\teval-rmse:0.42468\n",
      "[2280]\ttrain-rmse:0.33442\teval-rmse:0.42465\n",
      "[2290]\ttrain-rmse:0.33431\teval-rmse:0.42467\n",
      "[2300]\ttrain-rmse:0.33419\teval-rmse:0.42471\n",
      "[2310]\ttrain-rmse:0.33408\teval-rmse:0.42467\n",
      "[2320]\ttrain-rmse:0.33394\teval-rmse:0.42467\n",
      "[2330]\ttrain-rmse:0.33386\teval-rmse:0.42472\n",
      "Stopping. Best iteration:\n",
      "[2236]\ttrain-rmse:0.33502\teval-rmse:0.42459\n",
      "\n"
     ]
    }
   ],
   "source": [
    "param = {\n",
    "            'seed': 0,\n",
    "            'colsample_bytree': 0.7,\n",
    "            'silent': 1,\n",
    "            'subsample': 0.7,\n",
    "            'learning_rate': 0.01,\n",
    "            'objective': 'reg:linear',\n",
    "            'max_depth': 12,\n",
    "            'min_child_weight': 100,\n",
    "            'booster': 'gbtree',\n",
    "            'eval_metric':'rmse'}\n",
    "\n",
    "# the rest of settings are the same\n",
    "watchlist = [(dtrain, 'train'), (deval, 'eval')]\n",
    "num_round = 30000\n",
    "\n",
    "bst = xgb.train(param, dtrain, num_round, watchlist, early_stopping_rounds=100,verbose_eval=10)"
   ]
  },
  {
   "cell_type": "code",
   "execution_count": 26,
   "metadata": {},
   "outputs": [
    {
     "data": {
      "text/plain": [
       "2236"
      ]
     },
     "execution_count": 26,
     "metadata": {},
     "output_type": "execute_result"
    }
   ],
   "source": [
    "bst.best_iteration"
   ]
  },
  {
   "cell_type": "code",
   "execution_count": 27,
   "metadata": {},
   "outputs": [],
   "source": [
    "dtrain = xgb.DMatrix(pd.concat((df_train[feature_cols], df_eval[feature_cols])), pd.concat((df_train[label_col], df_eval[label_col])))"
   ]
  },
  {
   "cell_type": "code",
   "execution_count": 28,
   "metadata": {
    "scrolled": true
   },
   "outputs": [
    {
     "name": "stdout",
     "output_type": "stream",
     "text": [
      "[0]\ttrain-rmse:3.14363\n",
      "[10]\ttrain-rmse:2.85498\n",
      "[20]\ttrain-rmse:2.59452\n",
      "[30]\ttrain-rmse:2.35954\n",
      "[40]\ttrain-rmse:2.14772\n",
      "[50]\ttrain-rmse:1.95745\n",
      "[60]\ttrain-rmse:1.78576\n",
      "[70]\ttrain-rmse:1.63159\n",
      "[80]\ttrain-rmse:1.49280\n",
      "[90]\ttrain-rmse:1.36887\n",
      "[100]\ttrain-rmse:1.25799\n",
      "[110]\ttrain-rmse:1.15881\n",
      "[120]\ttrain-rmse:1.07005\n",
      "[130]\ttrain-rmse:0.99113\n",
      "[140]\ttrain-rmse:0.92049\n",
      "[150]\ttrain-rmse:0.85779\n",
      "[160]\ttrain-rmse:0.80282\n",
      "[170]\ttrain-rmse:0.75447\n",
      "[180]\ttrain-rmse:0.71168\n",
      "[190]\ttrain-rmse:0.67482\n",
      "[200]\ttrain-rmse:0.64167\n",
      "[210]\ttrain-rmse:0.61289\n",
      "[220]\ttrain-rmse:0.58746\n",
      "[230]\ttrain-rmse:0.56574\n",
      "[240]\ttrain-rmse:0.54697\n",
      "[250]\ttrain-rmse:0.53055\n",
      "[260]\ttrain-rmse:0.51671\n",
      "[270]\ttrain-rmse:0.50431\n",
      "[280]\ttrain-rmse:0.49352\n",
      "[290]\ttrain-rmse:0.48411\n",
      "[300]\ttrain-rmse:0.47604\n",
      "[310]\ttrain-rmse:0.46868\n",
      "[320]\ttrain-rmse:0.46239\n",
      "[330]\ttrain-rmse:0.45667\n",
      "[340]\ttrain-rmse:0.45132\n",
      "[350]\ttrain-rmse:0.44685\n",
      "[360]\ttrain-rmse:0.44264\n",
      "[370]\ttrain-rmse:0.43856\n",
      "[380]\ttrain-rmse:0.43501\n",
      "[390]\ttrain-rmse:0.43152\n",
      "[400]\ttrain-rmse:0.42838\n",
      "[410]\ttrain-rmse:0.42507\n",
      "[420]\ttrain-rmse:0.42224\n",
      "[430]\ttrain-rmse:0.41989\n",
      "[440]\ttrain-rmse:0.41746\n",
      "[450]\ttrain-rmse:0.41515\n",
      "[460]\ttrain-rmse:0.41321\n",
      "[470]\ttrain-rmse:0.41116\n",
      "[480]\ttrain-rmse:0.40939\n",
      "[490]\ttrain-rmse:0.40730\n",
      "[500]\ttrain-rmse:0.40547\n",
      "[510]\ttrain-rmse:0.40379\n",
      "[520]\ttrain-rmse:0.40175\n",
      "[530]\ttrain-rmse:0.40000\n",
      "[540]\ttrain-rmse:0.39844\n",
      "[550]\ttrain-rmse:0.39707\n",
      "[560]\ttrain-rmse:0.39546\n",
      "[570]\ttrain-rmse:0.39414\n",
      "[580]\ttrain-rmse:0.39315\n",
      "[590]\ttrain-rmse:0.39162\n",
      "[600]\ttrain-rmse:0.39043\n",
      "[610]\ttrain-rmse:0.38918\n",
      "[620]\ttrain-rmse:0.38808\n",
      "[630]\ttrain-rmse:0.38706\n",
      "[640]\ttrain-rmse:0.38635\n",
      "[650]\ttrain-rmse:0.38533\n",
      "[660]\ttrain-rmse:0.38426\n",
      "[670]\ttrain-rmse:0.38340\n",
      "[680]\ttrain-rmse:0.38263\n",
      "[690]\ttrain-rmse:0.38160\n",
      "[700]\ttrain-rmse:0.38074\n",
      "[710]\ttrain-rmse:0.37966\n",
      "[720]\ttrain-rmse:0.37878\n",
      "[730]\ttrain-rmse:0.37795\n",
      "[740]\ttrain-rmse:0.37709\n",
      "[750]\ttrain-rmse:0.37644\n",
      "[760]\ttrain-rmse:0.37579\n",
      "[770]\ttrain-rmse:0.37505\n",
      "[780]\ttrain-rmse:0.37456\n",
      "[790]\ttrain-rmse:0.37393\n",
      "[800]\ttrain-rmse:0.37322\n",
      "[810]\ttrain-rmse:0.37265\n",
      "[820]\ttrain-rmse:0.37206\n",
      "[830]\ttrain-rmse:0.37152\n",
      "[840]\ttrain-rmse:0.37097\n",
      "[850]\ttrain-rmse:0.37049\n",
      "[860]\ttrain-rmse:0.36982\n",
      "[870]\ttrain-rmse:0.36936\n",
      "[880]\ttrain-rmse:0.36885\n",
      "[890]\ttrain-rmse:0.36839\n",
      "[900]\ttrain-rmse:0.36793\n",
      "[910]\ttrain-rmse:0.36741\n",
      "[920]\ttrain-rmse:0.36698\n",
      "[930]\ttrain-rmse:0.36655\n",
      "[940]\ttrain-rmse:0.36610\n",
      "[950]\ttrain-rmse:0.36572\n",
      "[960]\ttrain-rmse:0.36517\n",
      "[970]\ttrain-rmse:0.36466\n",
      "[980]\ttrain-rmse:0.36432\n",
      "[990]\ttrain-rmse:0.36394\n",
      "[1000]\ttrain-rmse:0.36354\n",
      "[1010]\ttrain-rmse:0.36311\n",
      "[1020]\ttrain-rmse:0.36279\n",
      "[1030]\ttrain-rmse:0.36238\n",
      "[1040]\ttrain-rmse:0.36204\n",
      "[1050]\ttrain-rmse:0.36165\n",
      "[1060]\ttrain-rmse:0.36126\n",
      "[1070]\ttrain-rmse:0.36096\n",
      "[1080]\ttrain-rmse:0.36061\n",
      "[1090]\ttrain-rmse:0.36019\n",
      "[1100]\ttrain-rmse:0.35988\n",
      "[1110]\ttrain-rmse:0.35961\n",
      "[1120]\ttrain-rmse:0.35932\n",
      "[1130]\ttrain-rmse:0.35910\n",
      "[1140]\ttrain-rmse:0.35868\n",
      "[1150]\ttrain-rmse:0.35839\n",
      "[1160]\ttrain-rmse:0.35809\n",
      "[1170]\ttrain-rmse:0.35775\n",
      "[1180]\ttrain-rmse:0.35742\n",
      "[1190]\ttrain-rmse:0.35709\n",
      "[1200]\ttrain-rmse:0.35681\n",
      "[1210]\ttrain-rmse:0.35649\n",
      "[1220]\ttrain-rmse:0.35620\n",
      "[1230]\ttrain-rmse:0.35585\n",
      "[1240]\ttrain-rmse:0.35556\n",
      "[1250]\ttrain-rmse:0.35523\n",
      "[1260]\ttrain-rmse:0.35494\n",
      "[1270]\ttrain-rmse:0.35470\n",
      "[1280]\ttrain-rmse:0.35443\n",
      "[1290]\ttrain-rmse:0.35408\n",
      "[1300]\ttrain-rmse:0.35380\n",
      "[1310]\ttrain-rmse:0.35354\n",
      "[1320]\ttrain-rmse:0.35325\n",
      "[1330]\ttrain-rmse:0.35298\n",
      "[1340]\ttrain-rmse:0.35273\n",
      "[1350]\ttrain-rmse:0.35250\n",
      "[1360]\ttrain-rmse:0.35225\n",
      "[1370]\ttrain-rmse:0.35198\n",
      "[1380]\ttrain-rmse:0.35178\n",
      "[1390]\ttrain-rmse:0.35157\n",
      "[1400]\ttrain-rmse:0.35127\n",
      "[1410]\ttrain-rmse:0.35104\n",
      "[1420]\ttrain-rmse:0.35078\n",
      "[1430]\ttrain-rmse:0.35054\n",
      "[1440]\ttrain-rmse:0.35033\n",
      "[1450]\ttrain-rmse:0.35010\n",
      "[1460]\ttrain-rmse:0.34993\n",
      "[1470]\ttrain-rmse:0.34975\n",
      "[1480]\ttrain-rmse:0.34957\n",
      "[1490]\ttrain-rmse:0.34935\n",
      "[1500]\ttrain-rmse:0.34911\n",
      "[1510]\ttrain-rmse:0.34890\n",
      "[1520]\ttrain-rmse:0.34865\n",
      "[1530]\ttrain-rmse:0.34844\n",
      "[1540]\ttrain-rmse:0.34824\n",
      "[1550]\ttrain-rmse:0.34793\n",
      "[1560]\ttrain-rmse:0.34771\n",
      "[1570]\ttrain-rmse:0.34752\n",
      "[1580]\ttrain-rmse:0.34730\n",
      "[1590]\ttrain-rmse:0.34708\n",
      "[1600]\ttrain-rmse:0.34687\n",
      "[1610]\ttrain-rmse:0.34663\n",
      "[1620]\ttrain-rmse:0.34648\n",
      "[1630]\ttrain-rmse:0.34624\n",
      "[1640]\ttrain-rmse:0.34601\n",
      "[1650]\ttrain-rmse:0.34579\n",
      "[1660]\ttrain-rmse:0.34556\n",
      "[1670]\ttrain-rmse:0.34538\n",
      "[1680]\ttrain-rmse:0.34517\n",
      "[1690]\ttrain-rmse:0.34499\n",
      "[1700]\ttrain-rmse:0.34485\n",
      "[1710]\ttrain-rmse:0.34462\n",
      "[1720]\ttrain-rmse:0.34437\n",
      "[1730]\ttrain-rmse:0.34417\n",
      "[1740]\ttrain-rmse:0.34398\n",
      "[1750]\ttrain-rmse:0.34381\n",
      "[1760]\ttrain-rmse:0.34365\n",
      "[1770]\ttrain-rmse:0.34345\n",
      "[1780]\ttrain-rmse:0.34325\n",
      "[1790]\ttrain-rmse:0.34301\n",
      "[1800]\ttrain-rmse:0.34286\n",
      "[1810]\ttrain-rmse:0.34271\n",
      "[1820]\ttrain-rmse:0.34253\n",
      "[1830]\ttrain-rmse:0.34235\n",
      "[1840]\ttrain-rmse:0.34217\n",
      "[1850]\ttrain-rmse:0.34204\n",
      "[1860]\ttrain-rmse:0.34188\n",
      "[1870]\ttrain-rmse:0.34174\n",
      "[1880]\ttrain-rmse:0.34157\n",
      "[1890]\ttrain-rmse:0.34137\n",
      "[1900]\ttrain-rmse:0.34121\n",
      "[1910]\ttrain-rmse:0.34105\n",
      "[1920]\ttrain-rmse:0.34092\n",
      "[1930]\ttrain-rmse:0.34072\n",
      "[1940]\ttrain-rmse:0.34057\n",
      "[1950]\ttrain-rmse:0.34038\n",
      "[1960]\ttrain-rmse:0.34019\n",
      "[1970]\ttrain-rmse:0.34005\n",
      "[1980]\ttrain-rmse:0.33989\n",
      "[1990]\ttrain-rmse:0.33973\n",
      "[2000]\ttrain-rmse:0.33958\n",
      "[2010]\ttrain-rmse:0.33942\n",
      "[2020]\ttrain-rmse:0.33927\n",
      "[2030]\ttrain-rmse:0.33917\n",
      "[2040]\ttrain-rmse:0.33898\n",
      "[2050]\ttrain-rmse:0.33885\n",
      "[2060]\ttrain-rmse:0.33873\n",
      "[2070]\ttrain-rmse:0.33856\n",
      "[2080]\ttrain-rmse:0.33844\n",
      "[2090]\ttrain-rmse:0.33829\n",
      "[2100]\ttrain-rmse:0.33813\n",
      "[2110]\ttrain-rmse:0.33795\n",
      "[2120]\ttrain-rmse:0.33778\n",
      "[2130]\ttrain-rmse:0.33762\n",
      "[2140]\ttrain-rmse:0.33751\n",
      "[2150]\ttrain-rmse:0.33738\n",
      "[2160]\ttrain-rmse:0.33724\n",
      "[2170]\ttrain-rmse:0.33710\n",
      "[2180]\ttrain-rmse:0.33698\n",
      "[2190]\ttrain-rmse:0.33687\n",
      "[2200]\ttrain-rmse:0.33674\n",
      "[2210]\ttrain-rmse:0.33661\n",
      "[2220]\ttrain-rmse:0.33646\n",
      "[2230]\ttrain-rmse:0.33635\n",
      "[2235]\ttrain-rmse:0.33627\n"
     ]
    }
   ],
   "source": [
    "# the rest of settings are the same\n",
    "watchlist = [(dtrain, 'train')]\n",
    "num_round = bst.best_iteration\n",
    "\n",
    "# training and evaluation\n",
    "bst = xgb.train(param, dtrain, num_round, watchlist,verbose_eval=10)\n",
    "preds = bst.predict(dtest)"
   ]
  },
  {
   "cell_type": "code",
   "execution_count": null,
   "metadata": {},
   "outputs": [],
   "source": []
  },
  {
   "cell_type": "code",
   "execution_count": null,
   "metadata": {},
   "outputs": [],
   "source": []
  },
  {
   "cell_type": "code",
   "execution_count": 29,
   "metadata": {},
   "outputs": [],
   "source": [
    "submission = pd.DataFrame({'record_ID':df_test['record_ID'], 'units_sold':preds})"
   ]
  },
  {
   "cell_type": "code",
   "execution_count": 30,
   "metadata": {},
   "outputs": [],
   "source": [
    "# submission.loc[submission['units_sold'] < 0, 'units_sold'] = 1\n",
    "submission['units_sold'] = np.exp(submission['units_sold'])"
   ]
  },
  {
   "cell_type": "code",
   "execution_count": 31,
   "metadata": {},
   "outputs": [
    {
     "data": {
      "text/plain": [
       "(13860, 2)"
      ]
     },
     "execution_count": 31,
     "metadata": {},
     "output_type": "execute_result"
    }
   ],
   "source": [
    "submission.shape"
   ]
  },
  {
   "cell_type": "code",
   "execution_count": 32,
   "metadata": {},
   "outputs": [],
   "source": [
    "submission[['record_ID', 'units_sold']].to_csv('final.csv', index=None)"
   ]
  },
  {
   "cell_type": "code",
   "execution_count": null,
   "metadata": {},
   "outputs": [],
   "source": []
  },
  {
   "cell_type": "code",
   "execution_count": null,
   "metadata": {},
   "outputs": [],
   "source": []
  },
  {
   "cell_type": "code",
   "execution_count": null,
   "metadata": {},
   "outputs": [],
   "source": []
  }
 ],
 "metadata": {
  "kernelspec": {
   "display_name": "Python 3",
   "language": "python",
   "name": "python3"
  },
  "language_info": {
   "codemirror_mode": {
    "name": "ipython",
    "version": 3
   },
   "file_extension": ".py",
   "mimetype": "text/x-python",
   "name": "python",
   "nbconvert_exporter": "python",
   "pygments_lexer": "ipython3",
   "version": "3.7.6"
  }
 },
 "nbformat": 4,
 "nbformat_minor": 4
}
